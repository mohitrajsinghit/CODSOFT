{
 "cells": [
  {
   "cell_type": "markdown",
   "id": "862d3c7f-16ac-4019-b7bb-c6a814f6d41d",
   "metadata": {},
   "source": [
    "TASK - 4 SALES PREDICTION USING PYTHON\n",
    "\n",
    "Sales prediction involves forecasting the amount of a product that\r\n",
    "customers will purchase, taking into account various factors such as\r\n",
    "advertising expenditure, target audience segmentation, and\r\n",
    "advertising platform selecti\n",
    "on.\r\n",
    "In businesses that offer products or services, the role of a Data\r\n",
    "Scientist is crucial for predicting future sales. They utilize machine\r\n",
    "learning techniques in Python to analyze and interpret data, allowing\r\n",
    "them to make informed decisions regarding advertising costs. By\r\n",
    "leveraging these predictions, businesses can optimize their\r\n",
    "advertising strategies and maximize sales potentl. Let'\r\n",
    "\r\n",
    " embark on\r\n",
    "\r\n",
    "the journey of sales prediction using machine learning in Python.\n"
   ]
  },
  {
   "cell_type": "code",
   "execution_count": 4,
   "id": "99247281-def1-40d5-9534-6c0d31af0181",
   "metadata": {},
   "outputs": [],
   "source": [
    "#importing all the necessary libraries\n",
    "import numpy as np\n",
    "import pandas as pd\n",
    "import matplotlib.pyplot as plt\n",
    "import seaborn as sns"
   ]
  },
  {
   "cell_type": "code",
   "execution_count": 5,
   "id": "50c44087-6675-4e54-9be3-d4f1661e3347",
   "metadata": {},
   "outputs": [],
   "source": [
    "#importing all the dataset\n",
    "df_sale=pd.read_csv('D:/intproject/codsoft/advertising.csv')"
   ]
  },
  {
   "cell_type": "code",
   "execution_count": 6,
   "id": "14ab7f62-120a-4fa5-972c-29659868192b",
   "metadata": {},
   "outputs": [
    {
     "data": {
      "text/html": [
       "<div>\n",
       "<style scoped>\n",
       "    .dataframe tbody tr th:only-of-type {\n",
       "        vertical-align: middle;\n",
       "    }\n",
       "\n",
       "    .dataframe tbody tr th {\n",
       "        vertical-align: top;\n",
       "    }\n",
       "\n",
       "    .dataframe thead th {\n",
       "        text-align: right;\n",
       "    }\n",
       "</style>\n",
       "<table border=\"1\" class=\"dataframe\">\n",
       "  <thead>\n",
       "    <tr style=\"text-align: right;\">\n",
       "      <th></th>\n",
       "      <th>TV</th>\n",
       "      <th>Radio</th>\n",
       "      <th>Newspaper</th>\n",
       "      <th>Sales</th>\n",
       "    </tr>\n",
       "  </thead>\n",
       "  <tbody>\n",
       "    <tr>\n",
       "      <th>0</th>\n",
       "      <td>230.1</td>\n",
       "      <td>37.8</td>\n",
       "      <td>69.2</td>\n",
       "      <td>22.1</td>\n",
       "    </tr>\n",
       "    <tr>\n",
       "      <th>1</th>\n",
       "      <td>44.5</td>\n",
       "      <td>39.3</td>\n",
       "      <td>45.1</td>\n",
       "      <td>10.4</td>\n",
       "    </tr>\n",
       "    <tr>\n",
       "      <th>2</th>\n",
       "      <td>17.2</td>\n",
       "      <td>45.9</td>\n",
       "      <td>69.3</td>\n",
       "      <td>12.0</td>\n",
       "    </tr>\n",
       "    <tr>\n",
       "      <th>3</th>\n",
       "      <td>151.5</td>\n",
       "      <td>41.3</td>\n",
       "      <td>58.5</td>\n",
       "      <td>16.5</td>\n",
       "    </tr>\n",
       "    <tr>\n",
       "      <th>4</th>\n",
       "      <td>180.8</td>\n",
       "      <td>10.8</td>\n",
       "      <td>58.4</td>\n",
       "      <td>17.9</td>\n",
       "    </tr>\n",
       "  </tbody>\n",
       "</table>\n",
       "</div>"
      ],
      "text/plain": [
       "      TV  Radio  Newspaper  Sales\n",
       "0  230.1   37.8       69.2   22.1\n",
       "1   44.5   39.3       45.1   10.4\n",
       "2   17.2   45.9       69.3   12.0\n",
       "3  151.5   41.3       58.5   16.5\n",
       "4  180.8   10.8       58.4   17.9"
      ]
     },
     "execution_count": 6,
     "metadata": {},
     "output_type": "execute_result"
    }
   ],
   "source": [
    "#print first 5 from the dataset\n",
    "df_sale.head()"
   ]
  },
  {
   "cell_type": "code",
   "execution_count": 7,
   "id": "d8659373-2ef6-483e-ad87-e3176f031b31",
   "metadata": {},
   "outputs": [
    {
     "data": {
      "text/plain": [
       "(200, 4)"
      ]
     },
     "execution_count": 7,
     "metadata": {},
     "output_type": "execute_result"
    }
   ],
   "source": [
    "df_sale.shape"
   ]
  },
  {
   "cell_type": "code",
   "execution_count": 8,
   "id": "ebe308ba-a435-446b-adcf-2b4d45ba40c8",
   "metadata": {},
   "outputs": [
    {
     "data": {
      "text/html": [
       "<div>\n",
       "<style scoped>\n",
       "    .dataframe tbody tr th:only-of-type {\n",
       "        vertical-align: middle;\n",
       "    }\n",
       "\n",
       "    .dataframe tbody tr th {\n",
       "        vertical-align: top;\n",
       "    }\n",
       "\n",
       "    .dataframe thead th {\n",
       "        text-align: right;\n",
       "    }\n",
       "</style>\n",
       "<table border=\"1\" class=\"dataframe\">\n",
       "  <thead>\n",
       "    <tr style=\"text-align: right;\">\n",
       "      <th></th>\n",
       "      <th>TV</th>\n",
       "      <th>Radio</th>\n",
       "      <th>Newspaper</th>\n",
       "      <th>Sales</th>\n",
       "    </tr>\n",
       "  </thead>\n",
       "  <tbody>\n",
       "    <tr>\n",
       "      <th>count</th>\n",
       "      <td>200.000000</td>\n",
       "      <td>200.000000</td>\n",
       "      <td>200.000000</td>\n",
       "      <td>200.000000</td>\n",
       "    </tr>\n",
       "    <tr>\n",
       "      <th>mean</th>\n",
       "      <td>147.042500</td>\n",
       "      <td>23.264000</td>\n",
       "      <td>30.554000</td>\n",
       "      <td>15.130500</td>\n",
       "    </tr>\n",
       "    <tr>\n",
       "      <th>std</th>\n",
       "      <td>85.854236</td>\n",
       "      <td>14.846809</td>\n",
       "      <td>21.778621</td>\n",
       "      <td>5.283892</td>\n",
       "    </tr>\n",
       "    <tr>\n",
       "      <th>min</th>\n",
       "      <td>0.700000</td>\n",
       "      <td>0.000000</td>\n",
       "      <td>0.300000</td>\n",
       "      <td>1.600000</td>\n",
       "    </tr>\n",
       "    <tr>\n",
       "      <th>25%</th>\n",
       "      <td>74.375000</td>\n",
       "      <td>9.975000</td>\n",
       "      <td>12.750000</td>\n",
       "      <td>11.000000</td>\n",
       "    </tr>\n",
       "    <tr>\n",
       "      <th>50%</th>\n",
       "      <td>149.750000</td>\n",
       "      <td>22.900000</td>\n",
       "      <td>25.750000</td>\n",
       "      <td>16.000000</td>\n",
       "    </tr>\n",
       "    <tr>\n",
       "      <th>75%</th>\n",
       "      <td>218.825000</td>\n",
       "      <td>36.525000</td>\n",
       "      <td>45.100000</td>\n",
       "      <td>19.050000</td>\n",
       "    </tr>\n",
       "    <tr>\n",
       "      <th>max</th>\n",
       "      <td>296.400000</td>\n",
       "      <td>49.600000</td>\n",
       "      <td>114.000000</td>\n",
       "      <td>27.000000</td>\n",
       "    </tr>\n",
       "  </tbody>\n",
       "</table>\n",
       "</div>"
      ],
      "text/plain": [
       "               TV       Radio   Newspaper       Sales\n",
       "count  200.000000  200.000000  200.000000  200.000000\n",
       "mean   147.042500   23.264000   30.554000   15.130500\n",
       "std     85.854236   14.846809   21.778621    5.283892\n",
       "min      0.700000    0.000000    0.300000    1.600000\n",
       "25%     74.375000    9.975000   12.750000   11.000000\n",
       "50%    149.750000   22.900000   25.750000   16.000000\n",
       "75%    218.825000   36.525000   45.100000   19.050000\n",
       "max    296.400000   49.600000  114.000000   27.000000"
      ]
     },
     "execution_count": 8,
     "metadata": {},
     "output_type": "execute_result"
    }
   ],
   "source": [
    "df_sale.describe()"
   ]
  },
  {
   "cell_type": "code",
   "execution_count": 9,
   "id": "8b4fb63d-8fdb-4b51-8c4e-6fb9e826def7",
   "metadata": {},
   "outputs": [
    {
     "name": "stderr",
     "output_type": "stream",
     "text": [
      "C:\\Users\\ADMIN\\AppData\\Local\\Programs\\Python\\Python311\\Lib\\site-packages\\seaborn\\axisgrid.py:118: UserWarning: The figure layout has changed to tight\n",
      "  self._figure.tight_layout(*args, **kwargs)\n"
     ]
    },
    {
     "data": {
      "image/png": "[encoded data removed]",
      "text/plain": [
       "<Figure size 750x250 with 3 Axes>"
      ]
     },
     "metadata": {},
     "output_type": "display_data"
    }
   ],
   "source": [
    "sns.pairplot(df_sale,x_vars=['TV','Radio','Newspaper'],y_vars='Sales',kind='scatter')\n",
    "plt.show()"
   ]
  },
  {
   "cell_type": "code",
   "execution_count": 10,
   "id": "03754cc0-f25b-425e-b4ce-94a4d4bba82c",
   "metadata": {},
   "outputs": [
    {
     "data": {
      "text/plain": [
       "<Axes: ylabel='Frequency'>"
      ]
     },
     "execution_count": 10,
     "metadata": {},
     "output_type": "execute_result"
    },
    {
     "data": {
      "image/png": "[encoded data removed]",
      "text/plain": [
       "<Figure size 640x480 with 1 Axes>"
      ]
     },
     "metadata": {},
     "output_type": "display_data"
    }
   ],
   "source": [
    "df_sale['TV'].plot.hist(bins=10,color=\"green\")"
   ]
  },
  {
   "cell_type": "code",
   "execution_count": 11,
   "id": "0c2adbc1-c568-401d-bec0-2e0ebbd04df0",
   "metadata": {},
   "outputs": [
    {
     "data": {
      "text/plain": [
       "<Axes: xlabel='NewsPaper', ylabel='Frequency'>"
      ]
     },
     "execution_count": 11,
     "metadata": {},
     "output_type": "execute_result"
    },
    {
     "data": {
      "image/png": "[encoded data removed]",
      "text/plain": [
       "<Figure size 640x480 with 1 Axes>"
      ]
     },
     "metadata": {},
     "output_type": "display_data"
    }
   ],
   "source": [
    "df_sale['Newspaper'].plot.hist(bins=10,color=\"yellow\",xlabel=\"NewsPaper\")"
   ]
  },
  {
   "cell_type": "markdown",
   "id": "75f7375b-4b63-4823-9dd2-85b54b852dfe",
   "metadata": {},
   "source": [
    "Observation from Histogram :- The Majority sales in the result of low advertising cost in the NewsPaper"
   ]
  },
  {
   "cell_type": "code",
   "execution_count": 12,
   "id": "8c9d682d-8a13-4523-a8a3-8c897e4e44fb",
   "metadata": {},
   "outputs": [
    {
     "data": {
      "text/plain": [
       "<Axes: >"
      ]
     },
     "execution_count": 12,
     "metadata": {},
     "output_type": "execute_result"
    },
    {
     "data": {
      "image/png": "[encoded data removed]",
      "text/plain": [
       "<Figure size 640x480 with 2 Axes>"
      ]
     },
     "metadata": {},
     "output_type": "display_data"
    }
   ],
   "source": [
    "#HeatMap\n",
    "sns.heatmap(df_sale.corr(),annot=True)"
   ]
  },
  {
   "cell_type": "markdown",
   "id": "4febd76b-abb5-43e0-ba56-9fcb1a99189c",
   "metadata": {},
   "source": [
    "After all the observation we can say that sales is highly correlated with the TV"
   ]
  },
  {
   "cell_type": "code",
   "execution_count": 13,
   "id": "e7f7d7c4-8223-4e8c-80ba-d7056eecbdd7",
   "metadata": {},
   "outputs": [
    {
     "name": "stdout",
     "output_type": "stream",
     "text": [
      "        TV\n",
      "131  265.2\n",
      "96   197.6\n",
      "181  218.5\n",
      "19   147.3\n",
      "153  171.3\n",
      "..     ...\n",
      "67   139.3\n",
      "192   17.2\n",
      "117   76.4\n",
      "47   239.9\n",
      "172   19.6\n",
      "\n",
      "[140 rows x 1 columns]\n"
     ]
    }
   ],
   "source": [
    "from sklearn.model_selection import train_test_split\n",
    "x_train,x_test,y_train,y_test=train_test_split(df_sale[['TV']],df_sale[['Sales']],test_size=0.3,random_state=0)\n",
    "\n",
    "#printing the data\n",
    "print(x_train)"
   ]
  },
  {
   "cell_type": "code",
   "execution_count": 14,
   "id": "b1baa71e-1ff0-4347-96ea-0827458524a2",
   "metadata": {},
   "outputs": [
    {
     "name": "stdout",
     "output_type": "stream",
     "text": [
      "     Sales\n",
      "131   17.7\n",
      "96    16.7\n",
      "181   17.2\n",
      "19    14.6\n",
      "153   16.0\n",
      "..     ...\n",
      "67    13.4\n",
      "192    5.9\n",
      "117    9.4\n",
      "47    23.2\n",
      "172    7.6\n",
      "\n",
      "[140 rows x 1 columns]\n"
     ]
    }
   ],
   "source": [
    "print(y_train)"
   ]
  },
  {
   "cell_type": "code",
   "execution_count": 15,
   "id": "8c58cff0-d5c9-4281-8a7f-664a50a666ab",
   "metadata": {},
   "outputs": [
    {
     "name": "stdout",
     "output_type": "stream",
     "text": [
      "        TV\n",
      "18    69.2\n",
      "170   50.0\n",
      "107   90.4\n",
      "98   289.7\n",
      "177  170.2\n",
      "182   56.2\n",
      "5      8.7\n",
      "146  240.1\n",
      "12    23.8\n",
      "152  197.6\n",
      "61   261.3\n",
      "125   87.2\n",
      "180  156.6\n",
      "154  187.8\n",
      "80    76.4\n",
      "7    120.2\n",
      "33   265.6\n",
      "130    0.7\n",
      "37    74.7\n",
      "74   213.4\n",
      "183  287.6\n",
      "145  140.3\n",
      "45   175.1\n",
      "159  131.7\n",
      "60    53.5\n",
      "123  123.1\n",
      "179  165.6\n",
      "185  205.0\n",
      "122  224.0\n",
      "44    25.1\n",
      "16    67.8\n",
      "55   198.9\n",
      "150  280.7\n",
      "111  241.7\n",
      "22    13.2\n",
      "189   18.7\n",
      "129   59.6\n",
      "4    180.8\n",
      "83    68.4\n",
      "106   25.0\n",
      "134   36.9\n",
      "66    31.5\n",
      "26   142.9\n",
      "113  209.6\n",
      "168  215.4\n",
      "63   102.7\n",
      "8      8.6\n",
      "75    16.9\n",
      "118  125.7\n",
      "143  104.6\n",
      "71   109.8\n",
      "124  229.5\n",
      "184  253.8\n",
      "97   184.9\n",
      "149   44.7\n",
      "24    62.3\n",
      "30   292.9\n",
      "160  172.5\n",
      "40   202.5\n",
      "56     7.3\n"
     ]
    }
   ],
   "source": [
    "print(x_test)"
   ]
  },
  {
   "cell_type": "code",
   "execution_count": 16,
   "id": "f101f786-7842-4998-b25f-f66ce849a51c",
   "metadata": {},
   "outputs": [
    {
     "name": "stdout",
     "output_type": "stream",
     "text": [
      "     Sales\n",
      "18    11.3\n",
      "170    8.4\n",
      "107   12.0\n",
      "98    25.4\n",
      "177   16.7\n",
      "182    8.7\n",
      "5      7.2\n",
      "146   18.2\n",
      "12     9.2\n",
      "152   16.6\n",
      "61    24.2\n",
      "125   10.6\n",
      "180   15.5\n",
      "154   20.6\n",
      "80    11.8\n",
      "7     13.2\n",
      "33    17.4\n",
      "130    1.6\n",
      "37    14.7\n",
      "74    17.0\n",
      "183   26.2\n",
      "145   10.3\n",
      "45    16.1\n",
      "159   12.9\n",
      "60     8.1\n",
      "123   15.2\n",
      "179   17.6\n",
      "185   22.6\n",
      "122   16.6\n",
      "44     8.5\n",
      "16    12.5\n",
      "55    23.7\n",
      "150   16.1\n",
      "111   21.8\n",
      "22     5.6\n",
      "189    6.7\n",
      "129    9.7\n",
      "4     17.9\n",
      "83    13.6\n",
      "106    7.2\n",
      "134   10.8\n",
      "66    11.0\n",
      "26    15.0\n",
      "113   20.9\n",
      "168   17.1\n",
      "63    14.0\n",
      "8      4.8\n",
      "75     8.7\n",
      "118   15.9\n",
      "143   10.4\n",
      "71    12.4\n",
      "124   19.7\n",
      "184   17.6\n",
      "97    20.5\n",
      "149   10.1\n",
      "24     9.7\n",
      "30    21.4\n",
      "160   16.4\n",
      "40    16.6\n",
      "56     5.5\n"
     ]
    }
   ],
   "source": [
    "print(y_test)"
   ]
  },
  {
   "cell_type": "code",
   "execution_count": 17,
   "id": "5a00778a-1f2a-4701-bd08-f27c4891a13b",
   "metadata": {},
   "outputs": [
    {
     "data": {
      "text/html": [
       "<style>#sk-container-id-1 {color: black;}#sk-container-id-1 pre{padding: 0;}#sk-container-id-1 div.sk-toggleable {background-color: white;}#sk-container-id-1 label.sk-toggleable__label {cursor: pointer;display: block;width: 100%;margin-bottom: 0;padding: 0.3em;box-sizing: border-box;text-align: center;}#sk-container-id-1 label.sk-toggleable__label-arrow:before {content: \"▸\";float: left;margin-right: 0.25em;color: #696969;}#sk-container-id-1 label.sk-toggleable__label-arrow:hover:before {color: black;}#sk-container-id-1 div.sk-estimator:hover label.sk-toggleable__label-arrow:before {color: black;}#sk-container-id-1 div.sk-toggleable__content {max-height: 0;max-width: 0;overflow: hidden;text-align: left;background-color: #f0f8ff;}#sk-container-id-1 div.sk-toggleable__content pre {margin: 0.2em;color: black;border-radius: 0.25em;background-color: #f0f8ff;}#sk-container-id-1 input.sk-toggleable__control:checked~div.sk-toggleable__content {max-height: 200px;max-width: 100%;overflow: auto;}#sk-container-id-1 input.sk-toggleable__control:checked~label.sk-toggleable__label-arrow:before {content: \"▾\";}#sk-container-id-1 div.sk-estimator input.sk-toggleable__control:checked~label.sk-toggleable__label {background-color: #d4ebff;}#sk-container-id-1 div.sk-label input.sk-toggleable__control:checked~label.sk-toggleable__label {background-color: #d4ebff;}#sk-container-id-1 input.sk-hidden--visually {border: 0;clip: rect(1px 1px 1px 1px);clip: rect(1px, 1px, 1px, 1px);height: 1px;margin: -1px;overflow: hidden;padding: 0;position: absolute;width: 1px;}#sk-container-id-1 div.sk-estimator {font-family: monospace;background-color: #f0f8ff;border: 1px dotted black;border-radius: 0.25em;box-sizing: border-box;margin-bottom: 0.5em;}#sk-container-id-1 div.sk-estimator:hover {background-color: #d4ebff;}#sk-container-id-1 div.sk-parallel-item::after {content: \"\";width: 100%;border-bottom: 1px solid gray;flex-grow: 1;}#sk-container-id-1 div.sk-label:hover label.sk-toggleable__label {background-color: #d4ebff;}#sk-container-id-1 div.sk-serial::before {content: \"\";position: absolute;border-left: 1px solid gray;box-sizing: border-box;top: 0;bottom: 0;left: 50%;z-index: 0;}#sk-container-id-1 div.sk-serial {display: flex;flex-direction: column;align-items: center;background-color: white;padding-right: 0.2em;padding-left: 0.2em;position: relative;}#sk-container-id-1 div.sk-item {position: relative;z-index: 1;}#sk-container-id-1 div.sk-parallel {display: flex;align-items: stretch;justify-content: center;background-color: white;position: relative;}#sk-container-id-1 div.sk-item::before, #sk-container-id-1 div.sk-parallel-item::before {content: \"\";position: absolute;border-left: 1px solid gray;box-sizing: border-box;top: 0;bottom: 0;left: 50%;z-index: -1;}#sk-container-id-1 div.sk-parallel-item {display: flex;flex-direction: column;z-index: 1;position: relative;background-color: white;}#sk-container-id-1 div.sk-parallel-item:first-child::after {align-self: flex-end;width: 50%;}#sk-container-id-1 div.sk-parallel-item:last-child::after {align-self: flex-start;width: 50%;}#sk-container-id-1 div.sk-parallel-item:only-child::after {width: 0;}#sk-container-id-1 div.sk-dashed-wrapped {border: 1px dashed gray;margin: 0 0.4em 0.5em 0.4em;box-sizing: border-box;padding-bottom: 0.4em;background-color: white;}#sk-container-id-1 div.sk-label label {font-family: monospace;font-weight: bold;display: inline-block;line-height: 1.2em;}#sk-container-id-1 div.sk-label-container {text-align: center;}#sk-container-id-1 div.sk-container {/* jupyter's `normalize.less` sets `[hidden] { display: none; }` but bootstrap.min.css set `[hidden] { display: none !important; }` so we also need the `!important` here to be able to override the default hidden behavior on the sphinx rendered scikit-learn.org. See: https://github.com/scikit-learn/scikit-learn/issues/21755 */display: inline-block !important;position: relative;}#sk-container-id-1 div.sk-text-repr-fallback {display: none;}</style><div id=\"sk-container-id-1\" class=\"sk-top-container\"><div class=\"sk-text-repr-fallback\"><pre>LinearRegression()</pre><b>In a Jupyter environment, please rerun this cell to show the HTML representation or trust the notebook. <br />On GitHub, the HTML representation is unable to render, please try loading this page with nbviewer.org.</b></div><div class=\"sk-container\" hidden><div class=\"sk-item\"><div class=\"sk-estimator sk-toggleable\"><input class=\"sk-toggleable__control sk-hidden--visually\" id=\"sk-estimator-id-1\" type=\"checkbox\" checked><label for=\"sk-estimator-id-1\" class=\"sk-toggleable__label sk-toggleable__label-arrow\">LinearRegression</label><div class=\"sk-toggleable__content\"><pre>LinearRegression()</pre></div></div></div></div></div>"
      ],
      "text/plain": [
       "LinearRegression()"
      ]
     },
     "execution_count": 17,
     "metadata": {},
     "output_type": "execute_result"
    }
   ],
   "source": [
    "from sklearn.linear_model import LinearRegression\n",
    "model=LinearRegression()\n",
    "model.fit(x_train,y_train)\n",
    "model.fit(x_test,y_test)"
   ]
  },
  {
   "cell_type": "code",
   "execution_count": 18,
   "id": "fc136234-e3c0-4795-959e-b972022d80c3",
   "metadata": {},
   "outputs": [
    {
     "name": "stdout",
     "output_type": "stream",
     "text": [
      "[[10.60790179]\n",
      " [ 9.52021817]\n",
      " [11.80888578]\n",
      " [23.09926835]\n",
      " [16.32957082]\n",
      " [ 9.87144934]\n",
      " [ 7.18056538]\n",
      " [20.289419  ]\n",
      " [ 8.03598323]\n",
      " [17.88178599]\n",
      " [21.490403  ]\n",
      " [11.62760518]\n",
      " [15.55912826]\n",
      " [17.32661414]\n",
      " [11.01578314]\n",
      " [13.4970614 ]\n",
      " [21.73399881]\n",
      " [ 6.72736387]\n",
      " [10.91947782]\n",
      " [18.77685897]\n",
      " [22.98030295]\n",
      " [14.63573019]\n",
      " [16.60715675]\n",
      " [14.14853857]\n",
      " [ 9.71849383]\n",
      " [13.66134695]\n",
      " [16.06897996]\n",
      " [18.30099738]\n",
      " [19.37735097]\n",
      " [ 8.10962847]\n",
      " [10.52859152]\n",
      " [17.95543123]\n",
      " [22.58941665]\n",
      " [20.3800593 ]\n",
      " [ 7.43549123]\n",
      " [ 7.74706727]\n",
      " [10.06405998]\n",
      " [16.93006282]\n",
      " [10.56258164]\n",
      " [ 8.10396345]\n",
      " [ 8.7781007 ]\n",
      " [ 8.47218968]\n",
      " [14.78302068]\n",
      " [18.56158825]\n",
      " [18.89015934]\n",
      " [12.5056831 ]\n",
      " [ 7.17490036]\n",
      " [ 7.64509693]\n",
      " [13.80863744]\n",
      " [12.61331846]\n",
      " [12.90789944]\n",
      " [19.688927  ]\n",
      " [21.06552658]\n",
      " [17.1623286 ]\n",
      " [ 9.21997217]\n",
      " [10.21701549]\n",
      " [23.28054895]\n",
      " [16.45986626]\n",
      " [18.15937191]\n",
      " [ 7.10125512]]\n"
     ]
    }
   ],
   "source": [
    "res = model.predict(x_test)\n",
    "print(res)"
   ]
  },
  {
   "cell_type": "code",
   "execution_count": 19,
   "id": "d696e5dd-bca8-4dd2-92f8-f58c54757db0",
   "metadata": {},
   "outputs": [
    {
     "name": "stdout",
     "output_type": "stream",
     "text": [
      "[[21.71133873]\n",
      " [17.88178599]\n",
      " [19.06577493]\n",
      " [15.03228151]\n",
      " [16.39188603]\n",
      " [19.02045478]\n",
      " [21.56971326]\n",
      " [15.95001456]\n",
      " [12.37538767]\n",
      " [11.01011812]\n",
      " [17.1623286 ]\n",
      " [14.29582906]\n",
      " [22.19286533]\n",
      " [23.47882461]\n",
      " [12.13745688]\n",
      " [12.90789944]\n",
      " [21.15616688]\n",
      " [18.25001221]\n",
      " [20.289419  ]\n",
      " [17.66085025]\n",
      " [17.51355976]\n",
      " [11.76923065]\n",
      " [ 9.12366685]\n",
      " [ 8.85174594]\n",
      " [ 7.42982621]\n",
      " [20.24409885]\n",
      " [ 7.66209198]\n",
      " [18.62390346]\n",
      " [ 8.13795357]\n",
      " [16.71479211]\n",
      " [18.40863274]\n",
      " [10.4322862 ]\n",
      " [15.16824196]\n",
      " [14.01824313]\n",
      " [12.0241565 ]\n",
      " [22.3628159 ]\n",
      " [22.37414594]\n",
      " [ 7.12958021]\n",
      " [20.90124104]\n",
      " [16.64114686]\n",
      " [ 7.35051595]\n",
      " [10.96479797]\n",
      " [18.0064164 ]\n",
      " [19.72291712]\n",
      " [12.77193899]\n",
      " [19.47932131]\n",
      " [15.93868452]\n",
      " [14.11454845]\n",
      " [18.40296772]\n",
      " [16.71479211]\n",
      " [18.96946961]\n",
      " [10.47760635]\n",
      " [19.55863157]\n",
      " [17.63252516]\n",
      " [12.21110212]\n",
      " [11.5426299 ]\n",
      " [19.62094678]\n",
      " [14.59041004]\n",
      " [ 9.42391285]\n",
      " [19.06010991]\n",
      " [17.75715557]\n",
      " [ 6.99361976]\n",
      " [20.18178364]\n",
      " [18.94680953]\n",
      " [19.28671066]\n",
      " [ 8.24558893]\n",
      " [15.2702123 ]\n",
      " [14.57341498]\n",
      " [13.32711083]\n",
      " [22.7537022 ]\n",
      " [ 9.94509458]\n",
      " [20.13646349]\n",
      " [18.78252399]\n",
      " [ 7.75273229]\n",
      " [ 6.91997451]\n",
      " [16.00666475]\n",
      " [12.00716144]\n",
      " [ 8.30790413]\n",
      " [19.83621749]\n",
      " [18.85050421]\n",
      " [ 7.7867224 ]\n",
      " [22.56109156]\n",
      " [23.15591854]\n",
      " [14.40346442]\n",
      " [10.59657175]\n",
      " [ 9.20864213]\n",
      " [14.69238038]\n",
      " [17.36060426]\n",
      " [23.32020409]\n",
      " [14.49976974]\n",
      " [ 7.16357032]\n",
      " [16.22760049]\n",
      " [22.62907179]\n",
      " [ 9.12933187]\n",
      " [19.13942017]\n",
      " [17.03203316]\n",
      " [15.17390698]\n",
      " [19.16774527]\n",
      " [12.10913178]\n",
      " [20.78227564]\n",
      " [11.11775348]\n",
      " [13.54238155]\n",
      " [13.08351502]\n",
      " [ 7.70174712]\n",
      " [11.23105386]\n",
      " [20.75961557]\n",
      " [12.19410706]\n",
      " [19.17907531]\n",
      " [22.79335733]\n",
      " [20.46503459]\n",
      " [10.68721205]\n",
      " [14.34681423]\n",
      " [10.95346794]\n",
      " [13.25913061]\n",
      " [10.9421379 ]\n",
      " [ 8.8404159 ]\n",
      " [16.13696018]\n",
      " [ 8.20593379]\n",
      " [13.51405646]\n",
      " [21.5810433 ]\n",
      " [19.97217795]\n",
      " [20.27242394]\n",
      " [22.88966265]\n",
      " [19.28671066]\n",
      " [ 8.92539119]\n",
      " [19.60395172]\n",
      " [18.62956848]\n",
      " [10.84583258]\n",
      " [11.68992039]\n",
      " [17.96676127]\n",
      " [12.95888461]\n",
      " [21.80764405]\n",
      " [20.13646349]\n",
      " [18.0064164 ]\n",
      " [17.33227916]\n",
      " [14.57908   ]\n",
      " [ 7.66209198]\n",
      " [11.01578314]\n",
      " [20.27808896]\n",
      " [ 7.79805244]]\n"
     ]
    }
   ],
   "source": [
    "res1 = model.predict(x_train)\n",
    "print(res1)"
   ]
  },
  {
   "cell_type": "code",
   "execution_count": 20,
   "id": "4ac11bbd-18c2-4e1c-a5ae-87e5975f8d79",
   "metadata": {},
   "outputs": [
    {
     "data": {
      "text/plain": [
       "array([[0.05665019]])"
      ]
     },
     "execution_count": 20,
     "metadata": {},
     "output_type": "execute_result"
    }
   ],
   "source": [
    "model.coef_"
   ]
  },
  {
   "cell_type": "code",
   "execution_count": 21,
   "id": "facb80a3-d720-4baa-89ea-c718eb91e594",
   "metadata": {},
   "outputs": [
    {
     "data": {
      "text/plain": [
       "array([6.68770874])"
      ]
     },
     "execution_count": 21,
     "metadata": {},
     "output_type": "execute_result"
    }
   ],
   "source": [
    "model.intercept_"
   ]
  },
  {
   "cell_type": "code",
   "execution_count": 22,
   "id": "78144719-49cb-4377-8abb-e010bf93f0ec",
   "metadata": {},
   "outputs": [
    {
     "data": {
      "text/plain": [
       "[<matplotlib.lines.Line2D at 0x1ff1ec49390>]"
      ]
     },
     "execution_count": 22,
     "metadata": {},
     "output_type": "execute_result"
    },
    {
     "data": {
      "image/png": "[encoded data removed]",
      "text/plain": [
       "<Figure size 640x480 with 1 Axes>"
      ]
     },
     "metadata": {},
     "output_type": "display_data"
    }
   ],
   "source": [
    "plt.plot(res,color=\"Red\")"
   ]
  },
  {
   "cell_type": "markdown",
   "id": "90e180bc-4489-4fbd-86c3-314c8305d0cf",
   "metadata": {},
   "source": [
    "Done by - Mohit Raj"
   ]
  },
  {
   "cell_type": "markdown",
   "id": "c2145bac-5577-47d4-a9e3-7c687dacc338",
   "metadata": {},
   "source": []
  }
 ],
 "metadata": {
  "kernelspec": {
   "display_name": "Python 3 (ipykernel)",
   "language": "python",
   "name": "python3"
  },
  "language_info": {
   "codemirror_mode": {
    "name": "ipython",
    "version": 3
   },
   "file_extension": ".py",
   "mimetype": "text/x-python",
   "name": "python",
   "nbconvert_exporter": "python",
   "pygments_lexer": "ipython3",
   "version": "3.11.4"
  }
 },
 "nbformat": 4,
 "nbformat_minor": 5
}
